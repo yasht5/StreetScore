{
  "nbformat": 4,
  "nbformat_minor": 0,
  "metadata": {
    "colab": {
      "name": "btp_1.ipynb",
      "provenance": [],
      "mount_file_id": "1gfGK26jt-lRi0eMnWos-Q33_r1r9obKo",
      "authorship_tag": "ABX9TyNpAZswSM4wmfsdM6/Rh4ha",
      "include_colab_link": true
    },
    "kernelspec": {
      "name": "python3",
      "display_name": "Python 3"
    }
  },
  "cells": [
    {
      "cell_type": "markdown",
      "metadata": {
        "id": "view-in-github",
        "colab_type": "text"
      },
      "source": [
        "<a href=\"https://colab.research.google.com/github/yasht5/btp/blob/master/btp_1.ipynb\" target=\"_parent\"><img src=\"https://colab.research.google.com/assets/colab-badge.svg\" alt=\"Open In Colab\"/></a>"
      ]
    },
    {
      "cell_type": "code",
      "metadata": {
        "id": "Y9YD-w9mhlJx"
      },
      "source": [
        "import cv2\n",
        "import numpy as np\n",
        "import pandas as pd\n",
        "import matplotlib.pyplot as plt\n",
        "import os"
      ],
      "execution_count": 1,
      "outputs": []
    },
    {
      "cell_type": "code",
      "metadata": {
        "id": "Bx7lz9PLkjYa"
      },
      "source": [
        "import glob"
      ],
      "execution_count": 2,
      "outputs": []
    },
    {
      "cell_type": "code",
      "metadata": {
        "id": "9kalkktekn0X"
      },
      "source": [
        "from PIL import Image"
      ],
      "execution_count": 3,
      "outputs": []
    },
    {
      "cell_type": "code",
      "metadata": {
        "id": "ex6avf4LnWm2"
      },
      "source": [
        "import image_slicer"
      ],
      "execution_count": 4,
      "outputs": []
    },
    {
      "cell_type": "code",
      "metadata": {
        "id": "scgDokqwn_lw"
      },
      "source": [
        "path = \"/content/imgtest8/*.*\"\n",
        "for p in glob.glob(path):\n",
        "  image_slicer.slice(p, 5)"
      ],
      "execution_count": 37,
      "outputs": []
    },
    {
      "cell_type": "code",
      "metadata": {
        "colab": {
          "base_uri": "https://localhost:8080/"
        },
        "id": "mQmT53ZJqxIn",
        "outputId": "45d0525a-a33b-45d2-8b40-0bb8c8ac00e5"
      },
      "source": [
        "path = \"/content/imgtest8/*.*\"\n",
        "for p in glob.glob(path):\n",
        "  im = Image.open(p)\n",
        "  imgwidth, imgheight = im.size\n",
        "  print(('Image size is: %d x %d ' % (imgwidth, imgheight)))"
      ],
      "execution_count": 38,
      "outputs": [
        {
          "output_type": "stream",
          "text": [
            "Image size is: 177 x 225 \n",
            "Image size is: 177 x 225 \n",
            "Image size is: 533 x 450 \n",
            "Image size is: 177 x 225 \n",
            "Image size is: 177 x 225 \n",
            "Image size is: 177 x 225 \n",
            "Image size is: 1600 x 900 \n",
            "Image size is: 177 x 225 \n",
            "Image size is: 177 x 225 \n",
            "Image size is: 177 x 225 \n",
            "Image size is: 177 x 225 \n",
            "Image size is: 177 x 225 \n",
            "Image size is: 533 x 450 \n",
            "Image size is: 177 x 225 \n",
            "Image size is: 177 x 225 \n",
            "Image size is: 533 x 450 \n",
            "Image size is: 177 x 225 \n",
            "Image size is: 533 x 450 \n",
            "Image size is: 177 x 225 \n",
            "Image size is: 177 x 225 \n",
            "Image size is: 177 x 225 \n",
            "Image size is: 177 x 225 \n",
            "Image size is: 177 x 225 \n",
            "Image size is: 177 x 225 \n",
            "Image size is: 177 x 225 \n",
            "Image size is: 177 x 225 \n",
            "Image size is: 177 x 225 \n",
            "Image size is: 533 x 450 \n",
            "Image size is: 177 x 225 \n",
            "Image size is: 177 x 225 \n",
            "Image size is: 177 x 225 \n",
            "Image size is: 177 x 225 \n",
            "Image size is: 177 x 225 \n",
            "Image size is: 177 x 225 \n",
            "Image size is: 177 x 225 \n",
            "Image size is: 177 x 225 \n",
            "Image size is: 177 x 225 \n",
            "Image size is: 177 x 225 \n",
            "Image size is: 533 x 450 \n",
            "Image size is: 177 x 225 \n",
            "Image size is: 177 x 225 \n",
            "Image size is: 177 x 225 \n",
            "Image size is: 177 x 225 \n"
          ],
          "name": "stdout"
        }
      ]
    }
  ]
}